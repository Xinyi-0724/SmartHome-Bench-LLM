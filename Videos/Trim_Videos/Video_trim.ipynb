{
 "cells": [
  {
   "cell_type": "code",
   "execution_count": 1,
   "id": "9b400993-43ee-4af7-9cf5-7df438d7a129",
   "metadata": {},
   "outputs": [],
   "source": [
    "# xynote: this code is designed to trim those irrelevant videos from ring channel with ads\n",
    "\n",
    "import os\n",
    "import shutil\n",
    "import pandas as pd\n",
    "from moviepy.video.io.VideoFileClip import VideoFileClip"
   ]
  },
  {
   "cell_type": "code",
   "execution_count": null,
   "id": "f26ca8c5-eafd-477b-b503-9e9c010ec16b",
   "metadata": {},
   "outputs": [],
   "source": [
    "# Step 1: Read the CSV file and filter records based on \"Time\" column\n",
    "csv_file = 'Trim_video_label.csv'\n",
    "df = pd.read_csv(csv_file)\n",
    "\n",
    "# Filter out rows where \"Time\" is NaN\n",
    "df = df.dropna(subset=['Time'])\n",
    "\n",
    "# Divide into three groups based on the value of \"Time\"\n",
    "df_video_ad_end = df[df['Time'] > 0]\n",
    "df_video_ad_begin = df[df['Time'] < 0]\n",
    "df_video_no_trim = df[df['Time'] == 0]"
   ]
  },
  {
   "cell_type": "code",
   "execution_count": 3,
   "id": "34af38eb-cf84-453c-bc1e-fdfb5d9c681e",
   "metadata": {},
   "outputs": [],
   "source": [
    "# Step 2: Locate the corresponding videos in the \"wyze_video\" folder\n",
    "input_folder = 'wyze_video'\n",
    "output_folder = 'wyze_trimmed'\n",
    "\n",
    "if not os.path.exists(output_folder):\n",
    "    os.makedirs(output_folder)"
   ]
  },
  {
   "cell_type": "code",
   "execution_count": 4,
   "id": "83ef436e-d388-49db-bf97-e06addd51066",
   "metadata": {},
   "outputs": [],
   "source": [
    "# Step 4: Trim the videos based on the \"Time\" value\n",
    "def trim_video(input_path, output_path, start_time, end_time):\n",
    "    with VideoFileClip(input_path) as video:\n",
    "        trimmed_video = video.subclip(start_time, end_time)\n",
    "        trimmed_video.write_videofile(output_path, codec=\"libx264\")\n",
    "\n",
    "# Function to handle trimming\n",
    "def process_videos(df, folder, trim_type='end'):\n",
    "    for index, row in df.iterrows():\n",
    "        video_name = row['Title'] + '.mp4'\n",
    "        time_value = row['Time']\n",
    "        input_path = os.path.join(folder, video_name)\n",
    "        output_path = os.path.join(output_folder, video_name)\n",
    "        \n",
    "        if os.path.exists(input_path):\n",
    "            if trim_type == 'end':\n",
    "                with VideoFileClip(input_path) as video:\n",
    "                    duration = video.duration\n",
    "                    trim_video(input_path, output_path, 0, duration - time_value)\n",
    "            elif trim_type == 'begin':\n",
    "                trim_video(input_path, output_path, -time_value, None)\n",
    "        else:\n",
    "            print(f\"Video {video_name} not found in the folder {folder}.\")\n",
    "\n",
    "\n",
    "# Function to handle copying videos without trimming\n",
    "def copy_videos(df, folder):\n",
    "    for index, row in df.iterrows():\n",
    "        video_name = row['Title'] + '.mp4'\n",
    "        input_path = os.path.join(folder, video_name)\n",
    "        output_path = os.path.join(output_folder, video_name)\n",
    "        \n",
    "        if os.path.exists(input_path):\n",
    "            shutil.copy(input_path, output_path)\n",
    "        else:\n",
    "            print(f\"Video {video_name} not found in the folder {folder}.\")"
   ]
  },
  {
   "cell_type": "code",
   "execution_count": 5,
   "id": "d9c7992c-bf83-49b9-bff6-c51fd0ce8709",
   "metadata": {},
   "outputs": [
    {
     "name": "stdout",
     "output_type": "stream",
     "text": [
      "Moviepy - Building video wyze_trimmed/wyze_00007.mp4.\n",
      "MoviePy - Writing audio in wyze_00007TEMP_MPY_wvf_snd.mp3\n"
     ]
    },
    {
     "name": "stderr",
     "output_type": "stream",
     "text": [
      "                                                                              \r"
     ]
    },
    {
     "name": "stdout",
     "output_type": "stream",
     "text": [
      "MoviePy - Done.\n",
      "Moviepy - Writing video wyze_trimmed/wyze_00007.mp4\n",
      "\n"
     ]
    },
    {
     "name": "stderr",
     "output_type": "stream",
     "text": [
      "                                                                              \r"
     ]
    },
    {
     "name": "stdout",
     "output_type": "stream",
     "text": [
      "Moviepy - Done !\n",
      "Moviepy - video ready wyze_trimmed/wyze_00007.mp4\n",
      "Moviepy - Building video wyze_trimmed/wyze_00018.mp4.\n",
      "MoviePy - Writing audio in wyze_00018TEMP_MPY_wvf_snd.mp3\n"
     ]
    },
    {
     "name": "stderr",
     "output_type": "stream",
     "text": [
      "                                                                              \r"
     ]
    },
    {
     "name": "stdout",
     "output_type": "stream",
     "text": [
      "MoviePy - Done.\n",
      "Moviepy - Writing video wyze_trimmed/wyze_00018.mp4\n",
      "\n"
     ]
    },
    {
     "name": "stderr",
     "output_type": "stream",
     "text": [
      "                                                                              \r"
     ]
    },
    {
     "name": "stdout",
     "output_type": "stream",
     "text": [
      "Moviepy - Done !\n",
      "Moviepy - video ready wyze_trimmed/wyze_00018.mp4\n",
      "Moviepy - Building video wyze_trimmed/wyze_00036.mp4.\n",
      "MoviePy - Writing audio in wyze_00036TEMP_MPY_wvf_snd.mp3\n"
     ]
    },
    {
     "name": "stderr",
     "output_type": "stream",
     "text": [
      "                                                                              \r"
     ]
    },
    {
     "name": "stdout",
     "output_type": "stream",
     "text": [
      "MoviePy - Done.\n",
      "Moviepy - Writing video wyze_trimmed/wyze_00036.mp4\n",
      "\n"
     ]
    },
    {
     "name": "stderr",
     "output_type": "stream",
     "text": [
      "                                                                              \r"
     ]
    },
    {
     "name": "stdout",
     "output_type": "stream",
     "text": [
      "Moviepy - Done !\n",
      "Moviepy - video ready wyze_trimmed/wyze_00036.mp4\n",
      "Moviepy - Building video wyze_trimmed/wyze_00001.mp4.\n",
      "MoviePy - Writing audio in wyze_00001TEMP_MPY_wvf_snd.mp3\n"
     ]
    },
    {
     "name": "stderr",
     "output_type": "stream",
     "text": [
      "                                                                              \r"
     ]
    },
    {
     "name": "stdout",
     "output_type": "stream",
     "text": [
      "MoviePy - Done.\n",
      "Moviepy - Writing video wyze_trimmed/wyze_00001.mp4\n",
      "\n"
     ]
    },
    {
     "name": "stderr",
     "output_type": "stream",
     "text": [
      "                                                                              \r"
     ]
    },
    {
     "name": "stdout",
     "output_type": "stream",
     "text": [
      "Moviepy - Done !\n",
      "Moviepy - video ready wyze_trimmed/wyze_00001.mp4\n",
      "Moviepy - Building video wyze_trimmed/wyze_00014.mp4.\n",
      "MoviePy - Writing audio in wyze_00014TEMP_MPY_wvf_snd.mp3\n"
     ]
    },
    {
     "name": "stderr",
     "output_type": "stream",
     "text": [
      "                                                                              \r"
     ]
    },
    {
     "name": "stdout",
     "output_type": "stream",
     "text": [
      "MoviePy - Done.\n",
      "Moviepy - Writing video wyze_trimmed/wyze_00014.mp4\n",
      "\n"
     ]
    },
    {
     "name": "stderr",
     "output_type": "stream",
     "text": [
      "                                                                              \r"
     ]
    },
    {
     "name": "stdout",
     "output_type": "stream",
     "text": [
      "Moviepy - Done !\n",
      "Moviepy - video ready wyze_trimmed/wyze_00014.mp4\n",
      "Moviepy - Building video wyze_trimmed/wyze_00016.mp4.\n",
      "MoviePy - Writing audio in wyze_00016TEMP_MPY_wvf_snd.mp3\n"
     ]
    },
    {
     "name": "stderr",
     "output_type": "stream",
     "text": [
      "                                                                              \r"
     ]
    },
    {
     "name": "stdout",
     "output_type": "stream",
     "text": [
      "MoviePy - Done.\n",
      "Moviepy - Writing video wyze_trimmed/wyze_00016.mp4\n",
      "\n"
     ]
    },
    {
     "name": "stderr",
     "output_type": "stream",
     "text": [
      "                                                                              \r"
     ]
    },
    {
     "name": "stdout",
     "output_type": "stream",
     "text": [
      "Moviepy - Done !\n",
      "Moviepy - video ready wyze_trimmed/wyze_00016.mp4\n",
      "Moviepy - Building video wyze_trimmed/wyze_00019.mp4.\n",
      "MoviePy - Writing audio in wyze_00019TEMP_MPY_wvf_snd.mp3\n"
     ]
    },
    {
     "name": "stderr",
     "output_type": "stream",
     "text": [
      "                                                                              \r"
     ]
    },
    {
     "name": "stdout",
     "output_type": "stream",
     "text": [
      "MoviePy - Done.\n",
      "Moviepy - Writing video wyze_trimmed/wyze_00019.mp4\n",
      "\n"
     ]
    },
    {
     "name": "stderr",
     "output_type": "stream",
     "text": [
      "                                                                              \r"
     ]
    },
    {
     "name": "stdout",
     "output_type": "stream",
     "text": [
      "Moviepy - Done !\n",
      "Moviepy - video ready wyze_trimmed/wyze_00019.mp4\n",
      "Video processing completed.\n"
     ]
    }
   ],
   "source": [
    "# Process df_video_ad_end, df_video_ad_begin, and df_video_no_trim\n",
    "process_videos(df_video_ad_end, input_folder, trim_type='end')\n",
    "process_videos(df_video_ad_begin, input_folder, trim_type='begin')\n",
    "copy_videos(df_video_no_trim, input_folder)\n",
    "\n",
    "print(\"Video processing completed.\")"
   ]
  },
  {
   "cell_type": "code",
   "execution_count": null,
   "id": "cdfe8218-7f54-4dff-948d-de5d25784d66",
   "metadata": {},
   "outputs": [],
   "source": []
  }
 ],
 "metadata": {
  "kernelspec": {
   "display_name": "Python 3 (ipykernel)",
   "language": "python",
   "name": "python3"
  },
  "language_info": {
   "codemirror_mode": {
    "name": "ipython",
    "version": 3
   },
   "file_extension": ".py",
   "mimetype": "text/x-python",
   "name": "python",
   "nbconvert_exporter": "python",
   "pygments_lexer": "ipython3",
   "version": "3.11.7"
  }
 },
 "nbformat": 4,
 "nbformat_minor": 5
}
